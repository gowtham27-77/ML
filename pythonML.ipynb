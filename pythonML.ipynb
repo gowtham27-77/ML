{
 "cells": [
  {
   "cell_type": "code",
   "execution_count": 11,
   "id": "4a9fa064-7f54-447e-b152-b96399608a3f",
   "metadata": {},
   "outputs": [
    {
     "name": "stdout",
     "output_type": "stream",
     "text": [
      "[['apple', 10], ['banana', 5], ['cherry', 7], ['apple', 10], ['grapes', 9]]\n"
     ]
    }
   ],
   "source": [
    "orders = [['apple', 10],['banana', 5], ['cherry',7],['dragon',10],['grapes',9]]\n",
    "for each in orders:\n",
    "    if each[1] == 10:\n",
    "        each[0] = \"apple\"\n",
    "print(orders)"
   ]
  },
  {
   "cell_type": "code",
   "execution_count": 17,
   "id": "553e93e6-2498-4544-bd17-ab4091809841",
   "metadata": {},
   "outputs": [
    {
     "name": "stdout",
     "output_type": "stream",
     "text": [
      "[['apple', 10], ['banana', 5], ['cherry', 7], ['apple', 6], ['grapes', 9], ['apple', 15]]\n",
      "[10, 5, 7, 6, 9, 15]\n",
      "52\n"
     ]
    }
   ],
   "source": [
    "orders = [['apple', 10], ['banana', 5], ['cherry', 7], ['apple', 6], ['grapes', 9]]\n",
    "orders.append([\"apple\",15])\n",
    "print(orders)\n",
    "\n",
    "total = []\n",
    "for each_item in orders:\n",
    "    total.append(each_item[1])\n",
    "print(total)\n",
    "print(sum(total))\n",
    "    \n"
   ]
  },
  {
   "cell_type": "code",
   "execution_count": 23,
   "id": "d25ec083-2a5d-4572-9f4c-e925476cdd12",
   "metadata": {},
   "outputs": [
    {
     "name": "stdout",
     "output_type": "stream",
     "text": [
      "(4, 5, (6-8j), 'anu', 27.7, True)\n",
      "<class 'tuple'>\n"
     ]
    }
   ],
   "source": [
    "tup1 = (4,5,6-8j,\"anu\",27.7,True)\n",
    "print(tup1)\n",
    "print(type(tup1))"
   ]
  },
  {
   "cell_type": "code",
   "execution_count": 37,
   "id": "1c65409e-b0f5-433f-bac0-5b59578484f0",
   "metadata": {},
   "outputs": [
    {
     "data": {
      "text/plain": [
       "((6-8j), 'anu', 27.7)"
      ]
     },
     "execution_count": 37,
     "metadata": {},
     "output_type": "execute_result"
    }
   ],
   "source": [
    "tup1[2:-1]"
   ]
  },
  {
   "cell_type": "code",
   "execution_count": 39,
   "id": "e1b2d540-7c4d-4bda-b969-97aa0ea5c6e8",
   "metadata": {},
   "outputs": [
    {
     "data": {
      "text/plain": [
       "2"
      ]
     },
     "execution_count": 39,
     "metadata": {},
     "output_type": "execute_result"
    }
   ],
   "source": [
    "tup1.index(6-8j)"
   ]
  },
  {
   "cell_type": "code",
   "execution_count": 43,
   "id": "76d31981-dbe0-4cca-9830-218ed2ff3662",
   "metadata": {},
   "outputs": [
    {
     "data": {
      "text/plain": [
       "3"
      ]
     },
     "execution_count": 43,
     "metadata": {},
     "output_type": "execute_result"
    }
   ],
   "source": [
    "tup2 = (2,3,4,5,4,6,7,4,9)\n",
    "tup2.count(4)"
   ]
  },
  {
   "cell_type": "code",
   "execution_count": 1,
   "id": "74b89ee9-411c-4944-8c1c-80a07d7bcaa5",
   "metadata": {},
   "outputs": [
    {
     "name": "stdout",
     "output_type": "stream",
     "text": [
      "{'gowtham': 99, 'shashi': 0, 'virat': 100, 'Dinesh karthik': 108}\n"
     ]
    }
   ],
   "source": [
    "#dictionaries \n",
    "scores = {\"gowtham\" : 99,\n",
    "          \"shashi\" : 0,\n",
    "          \"virat\" : 100,\n",
    "          \"Dinesh karthik\" : 108,\n",
    "         }\n",
    "print(scores)\n",
    "           "
   ]
  },
  {
   "cell_type": "code",
   "execution_count": 13,
   "id": "624b631a-eff4-41a3-8f88-9901b4eef3a0",
   "metadata": {},
   "outputs": [
    {
     "data": {
      "text/plain": [
       "{'gowtham': 99,\n",
       " 'shashi': 67,\n",
       " 'virat': 100,\n",
       " 'Dinesh karthik': 108,\n",
       " 'gokul': 88,\n",
       " 'shahsi': 67}"
      ]
     },
     "execution_count": 13,
     "metadata": {},
     "output_type": "execute_result"
    }
   ],
   "source": [
    "scores[\"gokul\"] = 88\n",
    "scores"
   ]
  },
  {
   "cell_type": "code",
   "execution_count": 15,
   "id": "e21f045f-8150-4413-aebf-ca4f2e15e02d",
   "metadata": {},
   "outputs": [
    {
     "data": {
      "text/plain": [
       "{'gowtham': 56,\n",
       " 'shashi': 67,\n",
       " 'virat': 100,\n",
       " 'Dinesh karthik': 108,\n",
       " 'gokul': 88,\n",
       " 'shahsi': 67}"
      ]
     },
     "execution_count": 15,
     "metadata": {},
     "output_type": "execute_result"
    }
   ],
   "source": [
    "scores.update({\"gowtham\" : 56})\n",
    "scores"
   ]
  },
  {
   "cell_type": "code",
   "execution_count": 17,
   "id": "331590cd-adef-4726-a335-74fa453b56da",
   "metadata": {},
   "outputs": [
    {
     "data": {
      "text/plain": [
       "{'gowtham': 56,\n",
       " 'shashi': 67,\n",
       " 'virat': 118,\n",
       " 'Dinesh karthik': 148,\n",
       " 'gokul': 88,\n",
       " 'shahsi': 67}"
      ]
     },
     "execution_count": 17,
     "metadata": {},
     "output_type": "execute_result"
    }
   ],
   "source": [
    "scores.update({\"virat\" : 118, \"Dinesh karthik\" : 148})\n",
    "scores"
   ]
  },
  {
   "cell_type": "code",
   "execution_count": 23,
   "id": "e5e1f6ed-5ce2-4dc9-bcb5-3a52d97a23e7",
   "metadata": {},
   "outputs": [
    {
     "data": {
      "text/plain": [
       "{'gowtham': 56,\n",
       " 'shashi': 67,\n",
       " 'virat': 118,\n",
       " 'Dinesh karthik': 148,\n",
       " 'gokul': 88,\n",
       " 'shahsi': 67}"
      ]
     },
     "execution_count": 23,
     "metadata": {},
     "output_type": "execute_result"
    }
   ],
   "source": [
    "scores.setdefault(\"virat\",89)\n",
    "scores"
   ]
  },
  {
   "cell_type": "code",
   "execution_count": 25,
   "id": "f93c56bb-a501-4890-a699-adf3e1f4181b",
   "metadata": {},
   "outputs": [
    {
     "data": {
      "text/plain": [
       "{'gowtham': 56, 'shashi': 67, 'virat': 118, 'Dinesh karthik': 148, 'gokul': 88}"
      ]
     },
     "execution_count": 25,
     "metadata": {},
     "output_type": "execute_result"
    }
   ],
   "source": [
    "scores.popitem()\n",
    "scores"
   ]
  },
  {
   "cell_type": "code",
   "execution_count": 27,
   "id": "a028ed45-9807-46b0-9e75-6d8725062ee3",
   "metadata": {},
   "outputs": [
    {
     "data": {
      "text/plain": [
       "{'gowtham': 56, 'shashi': 67, 'virat': 118, 'Dinesh karthik': 148}"
      ]
     },
     "execution_count": 27,
     "metadata": {},
     "output_type": "execute_result"
    }
   ],
   "source": [
    "scores.pop(\"gokul\")\n",
    "scores"
   ]
  },
  {
   "cell_type": "code",
   "execution_count": 31,
   "id": "de582a41-204d-479d-9936-c530c6e4b885",
   "metadata": {},
   "outputs": [
    {
     "data": {
      "text/plain": [
       "67"
      ]
     },
     "execution_count": 31,
     "metadata": {},
     "output_type": "execute_result"
    }
   ],
   "source": [
    "scores.get(\"shashi\")"
   ]
  },
  {
   "cell_type": "code",
   "execution_count": 33,
   "id": "00acc10d-12c6-4ecc-b7c1-f5c9e9f02b0e",
   "metadata": {},
   "outputs": [
    {
     "data": {
      "text/plain": [
       "{'A': 10, 'B': 10, 'C': 10, 'D': 10}"
      ]
     },
     "execution_count": 33,
     "metadata": {},
     "output_type": "execute_result"
    }
   ],
   "source": [
    "#use of fromkeys() to create a new dict\n",
    "list1 = [\"A\",\"B\",\"C\",\"D\"]\n",
    "my_dict = dict.fromkeys(list1,10)\n",
    "my_dict"
   ]
  },
  {
   "cell_type": "code",
   "execution_count": 37,
   "id": "3c428e5e-4428-45ed-948f-616ddb537906",
   "metadata": {},
   "outputs": [
    {
     "data": {
      "text/plain": [
       "{'A': 20, 'B': 10, 'C': 40, 'D': 10}"
      ]
     },
     "execution_count": 37,
     "metadata": {},
     "output_type": "execute_result"
    }
   ],
   "source": [
    "my_dict.update({\"A\" : 20,\"C\" : 40})\n",
    "my_dict"
   ]
  },
  {
   "cell_type": "code",
   "execution_count": 41,
   "id": "b8f3a7ca-b38c-43c2-a5c2-08940ffe72b1",
   "metadata": {},
   "outputs": [
    {
     "data": {
      "text/plain": [
       "{'gowtham': 56, 'shashi': 67, 'virat': 87, 'Dinesh karthik': 148}"
      ]
     },
     "execution_count": 41,
     "metadata": {},
     "output_type": "execute_result"
    }
   ],
   "source": [
    "# use for loop to update \"virat\" to 87\n",
    "for k in scores.keys():\n",
    "    if k == \"virat\" :\n",
    "        scores[k] = 87\n",
    "scores"
   ]
  },
  {
   "cell_type": "code",
   "execution_count": 49,
   "id": "80a24ab6-bf60-4118-93b9-7b97c75f54e9",
   "metadata": {},
   "outputs": [
    {
     "name": "stdout",
     "output_type": "stream",
     "text": [
      "[56, 67, 87, 148]\n",
      "Total Score:  358\n"
     ]
    }
   ],
   "source": [
    "#use for to compute total scores\n",
    "scores_list = []\n",
    "for v in scores.values():\n",
    "    scores_list.append(v)\n",
    "print(scores_list)\n",
    "print(\"Total Score: \", sum(scores_list))"
   ]
  },
  {
   "cell_type": "code",
   "execution_count": 3,
   "id": "4b279fd9-9886-4933-a5ce-72b600bc75d4",
   "metadata": {},
   "outputs": [
    {
     "name": "stdout",
     "output_type": "stream",
     "text": [
      "{0, 1, 8, 9, 10, 78, 20}\n",
      "<class 'set'>\n"
     ]
    }
   ],
   "source": [
    "list1  = [1,8,9,0,10,20,78,8,8,8]\n",
    "s2 = set(list1)\n",
    "print(s2)\n",
    "print(type(s2))"
   ]
  },
  {
   "cell_type": "code",
   "execution_count": 5,
   "id": "e3cd44d3-209d-4a9f-b909-3e873f724ef2",
   "metadata": {},
   "outputs": [
    {
     "data": {
      "text/plain": [
       "['__and__',\n",
       " '__class__',\n",
       " '__class_getitem__',\n",
       " '__contains__',\n",
       " '__delattr__',\n",
       " '__dir__',\n",
       " '__doc__',\n",
       " '__eq__',\n",
       " '__format__',\n",
       " '__ge__',\n",
       " '__getattribute__',\n",
       " '__getstate__',\n",
       " '__gt__',\n",
       " '__hash__',\n",
       " '__iand__',\n",
       " '__init__',\n",
       " '__init_subclass__',\n",
       " '__ior__',\n",
       " '__isub__',\n",
       " '__iter__',\n",
       " '__ixor__',\n",
       " '__le__',\n",
       " '__len__',\n",
       " '__lt__',\n",
       " '__ne__',\n",
       " '__new__',\n",
       " '__or__',\n",
       " '__rand__',\n",
       " '__reduce__',\n",
       " '__reduce_ex__',\n",
       " '__repr__',\n",
       " '__ror__',\n",
       " '__rsub__',\n",
       " '__rxor__',\n",
       " '__setattr__',\n",
       " '__sizeof__',\n",
       " '__str__',\n",
       " '__sub__',\n",
       " '__subclasshook__',\n",
       " '__xor__',\n",
       " 'add',\n",
       " 'clear',\n",
       " 'copy',\n",
       " 'difference',\n",
       " 'difference_update',\n",
       " 'discard',\n",
       " 'intersection',\n",
       " 'intersection_update',\n",
       " 'isdisjoint',\n",
       " 'issubset',\n",
       " 'issuperset',\n",
       " 'pop',\n",
       " 'remove',\n",
       " 'symmetric_difference',\n",
       " 'symmetric_difference_update',\n",
       " 'union',\n",
       " 'update']"
      ]
     },
     "execution_count": 5,
     "metadata": {},
     "output_type": "execute_result"
    }
   ],
   "source": [
    "dir(set)"
   ]
  },
  {
   "cell_type": "code",
   "execution_count": 7,
   "id": "b750cba9-12eb-4b3b-a0e2-de80d184198b",
   "metadata": {},
   "outputs": [
    {
     "data": {
      "text/plain": [
       "{1, 2, 3, 4, 5, 6}"
      ]
     },
     "execution_count": 7,
     "metadata": {},
     "output_type": "execute_result"
    }
   ],
   "source": [
    "# union operation using | operator\n",
    "s1 = {1,2,3,4}\n",
    "s2 = {3,4,5,5,6}\n",
    "s1 | s2"
   ]
  },
  {
   "cell_type": "code",
   "execution_count": 9,
   "id": "f57e4359-6502-42ea-856c-f024eacc9ece",
   "metadata": {},
   "outputs": [
    {
     "data": {
      "text/plain": [
       "{1, 3, 4}"
      ]
     },
     "execution_count": 9,
     "metadata": {},
     "output_type": "execute_result"
    }
   ],
   "source": [
    "s1 = {1,2,3,4}\n",
    "s2 = {1,3,4,5,6}\n",
    "s1 & s2"
   ]
  },
  {
   "cell_type": "code",
   "execution_count": 15,
   "id": "d2a2fa65-92ad-4c7b-bb8f-dfc85094e0be",
   "metadata": {},
   "outputs": [
    {
     "data": {
      "text/plain": [
       "{3, 7}"
      ]
     },
     "execution_count": 15,
     "metadata": {},
     "output_type": "execute_result"
    }
   ],
   "source": [
    "s1 = {1,2,7,3,4}\n",
    "s2 = {1,4,2}\n",
    "s1 - s2"
   ]
  },
  {
   "cell_type": "code",
   "execution_count": 17,
   "id": "7d4aec02-4e02-4623-af25-6660ddaafe3d",
   "metadata": {},
   "outputs": [
    {
     "data": {
      "text/plain": [
       "set()"
      ]
     },
     "execution_count": 17,
     "metadata": {},
     "output_type": "execute_result"
    }
   ],
   "source": [
    "s2 - s1"
   ]
  },
  {
   "cell_type": "code",
   "execution_count": 23,
   "id": "5b7d18d2-a81f-4246-8500-aa9af9b075e6",
   "metadata": {},
   "outputs": [
    {
     "data": {
      "text/plain": [
       "{2, 3, 4, 5, 8, 9}"
      ]
     },
     "execution_count": 23,
     "metadata": {},
     "output_type": "execute_result"
    }
   ],
   "source": [
    "# symmetric difference\n",
    "s1 = {1,2,3,4,5,6,7}\n",
    "s2 = {1,6,7,8,9}\n",
    "s1.symmetric_difference(s2)"
   ]
  },
  {
   "cell_type": "code",
   "execution_count": 35,
   "id": "b5968488-f5a6-4454-80ea-8e8475f6a122",
   "metadata": {},
   "outputs": [
    {
     "data": {
      "text/plain": [
       "True"
      ]
     },
     "execution_count": 35,
     "metadata": {},
     "output_type": "execute_result"
    }
   ],
   "source": [
    "s1 = {1,2,3,4}\n",
    "s2 = {2,4}\n",
    "s2.issubset(s1)"
   ]
  },
  {
   "cell_type": "code",
   "execution_count": 37,
   "id": "7ac7a9f6-c809-4a90-a95c-11f320b33e50",
   "metadata": {},
   "outputs": [
    {
     "data": {
      "text/plain": [
       "False"
      ]
     },
     "execution_count": 37,
     "metadata": {},
     "output_type": "execute_result"
    }
   ],
   "source": [
    "s2.issuperset(s1)"
   ]
  },
  {
   "cell_type": "code",
   "execution_count": 61,
   "id": "92ed3205-6281-42a5-a65a-91c2c6c3ec79",
   "metadata": {},
   "outputs": [
    {
     "name": "stdout",
     "output_type": "stream",
     "text": [
      "gowtham plays cricket\n",
      "hahhahah\n",
      "89\n"
     ]
    }
   ],
   "source": [
    "# Strings\n",
    "str1 = \"gowtham plays cricket\"\n",
    "print(str1)\n",
    "str2 = 'hahhahah'\n",
    "print(str2)\n",
    "str3 = 89\n",
    "print(str3)"
   ]
  },
  {
   "cell_type": "code",
   "execution_count": 51,
   "id": "d54e5482-83ab-45fe-8e32-7528534e4ee1",
   "metadata": {},
   "outputs": [
    {
     "name": "stdout",
     "output_type": "stream",
     "text": [
      "<class 'str'>\n",
      "<class 'str'>\n",
      "<class 'int'>\n"
     ]
    }
   ],
   "source": [
    "print(type(str1))\n",
    "print(type(str2))\n",
    "print(type(str3))"
   ]
  },
  {
   "cell_type": "code",
   "execution_count": 67,
   "id": "e73fbe1b-ee6c-4af0-947d-46d05cd64699",
   "metadata": {},
   "outputs": [
    {
     "name": "stdout",
     "output_type": "stream",
     "text": [
      "gowtham plays cricket\n"
     ]
    },
    {
     "data": {
      "text/plain": [
       "'wtham pl'"
      ]
     },
     "execution_count": 67,
     "metadata": {},
     "output_type": "execute_result"
    }
   ],
   "source": [
    "# slicing in strings\n",
    "print(str1)\n",
    "str1[2:10]"
   ]
  },
  {
   "cell_type": "code",
   "execution_count": 69,
   "id": "6a582f03-66e1-4766-8d61-bc09c32189bb",
   "metadata": {},
   "outputs": [
    {
     "name": "stdout",
     "output_type": "stream",
     "text": [
      "gowtham goes to gym\n"
     ]
    },
    {
     "data": {
      "text/plain": [
       "['gowtham', 'goes', 'to', 'gym']"
      ]
     },
     "execution_count": 69,
     "metadata": {},
     "output_type": "execute_result"
    }
   ],
   "source": [
    "# use split \n",
    "str1 = \"gowtham goes to gym\"\n",
    "print(str1)\n",
    "str1.split()"
   ]
  },
  {
   "cell_type": "code",
   "execution_count": 75,
   "id": "e6670bb6-59e1-4939-809b-297ef062d20c",
   "metadata": {},
   "outputs": [
    {
     "data": {
      "text/plain": [
       "'The product is awesome:great service'"
      ]
     },
     "execution_count": 75,
     "metadata": {},
     "output_type": "execute_result"
    }
   ],
   "source": [
    "# use join() method\n",
    "reviews = [\"The product is awesome\", \"great service\"]\n",
    "joined_string = ':'.join(reviews)\n",
    "joined_string"
   ]
  },
  {
   "cell_type": "code",
   "execution_count": 77,
   "id": "032a59a9-5f81-4c96-85e1-bdd2422404c8",
   "metadata": {},
   "outputs": [
    {
     "data": {
      "text/plain": [
       "'    hey, that may you?   '"
      ]
     },
     "execution_count": 77,
     "metadata": {},
     "output_type": "execute_result"
    }
   ],
   "source": [
    "# use of strip() method\n",
    "str6 = \"    hey, that may you?   \"\n",
    "str6"
   ]
  },
  {
   "cell_type": "code",
   "execution_count": 79,
   "id": "784035b5-9e3e-4227-8ddd-2f4b0eef7b05",
   "metadata": {},
   "outputs": [
    {
     "data": {
      "text/plain": [
       "'hey, that may you?'"
      ]
     },
     "execution_count": 79,
     "metadata": {},
     "output_type": "execute_result"
    }
   ],
   "source": [
    "str6.strip()"
   ]
  },
  {
   "cell_type": "code",
   "execution_count": 87,
   "id": "37d64438-7c9c-447e-a891-d0f15b3ef8bf",
   "metadata": {},
   "outputs": [
    {
     "data": {
      "text/plain": [
       "'    HEY, THAT MAY YOU?   '"
      ]
     },
     "execution_count": 87,
     "metadata": {},
     "output_type": "execute_result"
    }
   ],
   "source": [
    "str6.upper()"
   ]
  },
  {
   "cell_type": "code",
   "execution_count": null,
   "id": "f47bd0f3-fe30-4de6-88cc-06bb22f833de",
   "metadata": {},
   "outputs": [],
   "source": [
    "# Example dictionary for product sales analysis\n",
    "sales_data = {\n",
    "    \"ProductID\" : []"
   ]
  }
 ],
 "metadata": {
  "kernelspec": {
   "display_name": "Python [conda env:base] *",
   "language": "python",
   "name": "conda-base-py"
  },
  "language_info": {
   "codemirror_mode": {
    "name": "ipython",
    "version": 3
   },
   "file_extension": ".py",
   "mimetype": "text/x-python",
   "name": "python",
   "nbconvert_exporter": "python",
   "pygments_lexer": "ipython3",
   "version": "3.12.7"
  }
 },
 "nbformat": 4,
 "nbformat_minor": 5
}
