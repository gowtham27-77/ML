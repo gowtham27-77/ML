{
 "cells": [
  {
   "cell_type": "code",
   "execution_count": null,
   "id": "0259b4fe-ea5b-4823-ba75-d028235c9849",
   "metadata": {},
   "outputs": [],
   "source": [
    "example\n",
    "\n",
    "1.Read a long text in to string that contains some punctuation marks also.\n",
    "2.Convert to lower case\n",
    "3.Remove punctuation marks\n",
    "4.Split in to words unsing split() function\n",
    "5.Make a dictionary with each unique word as the key and its value being the number of occurances\n",
    "6.Convert the dict to dataframe and print it"
   ]
  },
  {
   "cell_type": "code",
   "execution_count": 3,
   "id": "e33b06b1-6689-490f-8999-8fab4a24776e",
   "metadata": {},
   "outputs": [
    {
     "name": "stdout",
     "output_type": "stream",
     "text": [
      "India Champions Trophy squad announcement Highlights: After an underwhelming show in Tests, it's time to shift focus to white-ball cricket as Team India gears for the upcoming ICC Champions Trophy 2025, which starts next month\n"
     ]
    }
   ],
   "source": [
    "import pandas as pd\n",
    "import string\n",
    "\n",
    "text = \"\"\"India Champions Trophy squad announcement Highlights: After an underwhelming show in Tests, it's time to shift focus to white-ball cricket as Team India gears for the upcoming ICC Champions Trophy 2025, which starts next month\"\"\"\n",
    "print(text)"
   ]
  },
  {
   "cell_type": "code",
   "execution_count": 5,
   "id": "40ec437e-0584-4123-975d-0e0d9be75265",
   "metadata": {},
   "outputs": [
    {
     "data": {
      "text/plain": [
       "\"india champions trophy squad announcement highlights: after an underwhelming show in tests, it's time to shift focus to white-ball cricket as team india gears for the upcoming icc champions trophy 2025, which starts next month\""
      ]
     },
     "execution_count": 5,
     "metadata": {},
     "output_type": "execute_result"
    }
   ],
   "source": [
    "text.lower()"
   ]
  },
  {
   "cell_type": "code",
   "execution_count": 11,
   "id": "e978a2bf-8879-4908-9d98-5af55310dd2b",
   "metadata": {},
   "outputs": [
    {
     "data": {
      "text/plain": [
       "'India Champions Trophy squad announcement Highlights After an underwhelming show in Tests its time to shift focus to whiteball cricket as Team India gears for the upcoming ICC Champions Trophy 2025 which starts next month'"
      ]
     },
     "execution_count": 11,
     "metadata": {},
     "output_type": "execute_result"
    }
   ],
   "source": [
    "text = text.translate(str.maketrans(\"\", \"\",string.punctuation))\n",
    "text"
   ]
  }
 ],
 "metadata": {
  "kernelspec": {
   "display_name": "Python [conda env:base] *",
   "language": "python",
   "name": "conda-base-py"
  },
  "language_info": {
   "codemirror_mode": {
    "name": "ipython",
    "version": 3
   },
   "file_extension": ".py",
   "mimetype": "text/x-python",
   "name": "python",
   "nbconvert_exporter": "python",
   "pygments_lexer": "ipython3",
   "version": "3.12.7"
  }
 },
 "nbformat": 4,
 "nbformat_minor": 5
}
